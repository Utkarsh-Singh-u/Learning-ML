{
 "cells": [
  {
   "cell_type": "code",
   "execution_count": 10,
   "id": "f8575cca",
   "metadata": {},
   "outputs": [],
   "source": [
    "import sqlite3"
   ]
  },
  {
   "cell_type": "code",
   "execution_count": null,
   "id": "72922dcf",
   "metadata": {},
   "outputs": [
    {
     "data": {
      "text/plain": [
       "<sqlite3.Connection at 0x29052993b50>"
      ]
     },
     "execution_count": 3,
     "metadata": {},
     "output_type": "execute_result"
    }
   ],
   "source": [
    "## connect to a SQLite database\n",
    "connection = sqlite3.connect(\"example.db\")\n",
    "connection"
   ]
  },
  {
   "cell_type": "code",
   "execution_count": 7,
   "metadata": {},
   "outputs": [],
   "source": [
    "cursor = connection.cursor()"
   ]
  },
  {
   "cell_type": "code",
   "execution_count": 14,
   "id": "40c4e6c5",
   "metadata": {},
   "outputs": [],
   "source": [
    "## creating table\n",
    "cursor.execute('''\n",
    "Create Table If Not Exists employees(\n",
    "id Integer primary Key,\n",
    "name Text Not Null,\n",
    "age Integer,\n",
    "department text\n",
    ")\n",
    "''')\n",
    "## commit the changes\n",
    "connection.commit()\n",
    "\n"
   ]
  },
  {
   "cell_type": "code",
   "execution_count": 16,
   "id": "9b677169",
   "metadata": {},
   "outputs": [],
   "source": [
    "## insert into table\n",
    "cursor.execute('''\n",
    "  Insert Into employees(name,age,department)\n",
    "  Values('Utkarsh',20,'CSE')\n",
    "''')\n",
    "cursor.execute('''\n",
    "  Insert Into employees(name,age,department)\n",
    "  Values('BOB',20,'mechanical')\n",
    "''')\n",
    "cursor.execute('''\n",
    "  Insert Into employees(name,age,department)\n",
    "  Values('Charlie',20,'EE')\n",
    "''')\n",
    "\n",
    "##commit the changes\n",
    "connection.commit()"
   ]
  },
  {
   "cell_type": "code",
   "execution_count": 17,
   "id": "310a0333",
   "metadata": {},
   "outputs": [
    {
     "name": "stdout",
     "output_type": "stream",
     "text": [
      "(1, 'Utkarsh', 20, 'CSE')\n",
      "(2, 'BOB', 20, 'mechanical')\n",
      "(3, 'Charlie', 20, 'EE')\n"
     ]
    }
   ],
   "source": [
    "## query the data from table\n",
    "cursor.execute('Select * from employees')\n",
    "rows=cursor.fetchall()\n",
    "##print the data\n",
    "for row in rows:\n",
    "  print(row)"
   ]
  },
  {
   "cell_type": "code",
   "execution_count": 19,
   "id": "4614cf20",
   "metadata": {},
   "outputs": [
    {
     "data": {
      "text/plain": [
       "<sqlite3.Cursor at 0x29053dd09c0>"
      ]
     },
     "execution_count": 19,
     "metadata": {},
     "output_type": "execute_result"
    }
   ],
   "source": [
    "## update details\n",
    "cursor.execute('''\n",
    "Update employees\n",
    "Set age=21\n",
    "where name='Utkarsh'\n",
    "''')"
   ]
  },
  {
   "cell_type": "code",
   "execution_count": 20,
   "metadata": {},
   "outputs": [
    {
     "name": "stdout",
     "output_type": "stream",
     "text": [
      "(1, 'Utkarsh', 21, 'CSE')\n",
      "(2, 'BOB', 20, 'mechanical')\n",
      "(3, 'Charlie', 20, 'EE')\n"
     ]
    }
   ],
   "source": [
    "## query the data from table\n",
    "cursor.execute('Select * from employees')\n",
    "rows=cursor.fetchall()\n",
    "##print the data\n",
    "for row in rows:\n",
    "  print(row)"
   ]
  },
  {
   "cell_type": "code",
   "execution_count": 22,
   "id": "e4efae85",
   "metadata": {},
   "outputs": [
    {
     "name": "stdout",
     "output_type": "stream",
     "text": [
      "(1, 'Utkarsh', 21, 'CSE')\n",
      "(3, 'Charlie', 20, 'EE')\n"
     ]
    }
   ],
   "source": [
    "### delete data\n",
    "cursor.execute('''\n",
    "Delete from employees\n",
    "where name='BOB'\n",
    "''')\n",
    "\n",
    "## query the data from table\n",
    "cursor.execute('Select * from employees')\n",
    "rows=cursor.fetchall()\n",
    "##print the data\n",
    "for row in rows:\n",
    "  print(row)"
   ]
  },
  {
   "cell_type": "code",
   "execution_count": null,
   "id": "9057f16e",
   "metadata": {},
   "outputs": [],
   "source": []
  }
 ],
 "metadata": {
  "kernelspec": {
   "display_name": "base",
   "language": "python",
   "name": "python3"
  },
  "language_info": {
   "codemirror_mode": {
    "name": "ipython",
    "version": 3
   },
   "file_extension": ".py",
   "mimetype": "text/x-python",
   "name": "python",
   "nbconvert_exporter": "python",
   "pygments_lexer": "ipython3",
   "version": "3.12.7"
  }
 },
 "nbformat": 4,
 "nbformat_minor": 5
}
