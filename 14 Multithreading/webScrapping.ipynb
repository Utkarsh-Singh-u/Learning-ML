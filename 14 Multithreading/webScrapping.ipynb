{
 "cells": [
  {
   "cell_type": "code",
   "execution_count": null,
   "id": "2706bebd",
   "metadata": {},
   "outputs": [],
   "source": [
    "'''\n",
    "https://python.langchain.com/v0.2/docs/introduction/\n",
    "https://python.langchain.com/v0.2/docs/concepts/\n",
    "https://python.langchain.com/v0.2/docs/tutorials/\n",
    "'''"
   ]
  },
  {
   "cell_type": "code",
   "execution_count": null,
   "id": "2030124d",
   "metadata": {},
   "outputs": [
    {
     "name": "stdout",
     "output_type": "stream",
     "text": [
      "Fetched 8690 characters from https://python.langchain.com/v0.2/docs/tutorials/Fetched 10735 characters from https://python.langchain.com/v0.2/docs/introduction/\n",
      "\n",
      "Fetched 82353 characters from https://python.langchain.com/v0.2/docs/concepts/\n",
      "All threads have completed.\n"
     ]
    }
   ],
   "source": [
    "import threading\n",
    "import requests\n",
    "from bs4 import BeautifulSoup\n",
    "\n",
    "urls=[\n",
    "  'https://python.langchain.com/v0.2/docs/introduction/',\n",
    "  'https://python.langchain.com/v0.2/docs/concepts/',\n",
    "  'https://python.langchain.com/v0.2/docs/tutorials/',\n",
    "]\n",
    "\n",
    "\n",
    "def fetch_content(url):\n",
    "  response = requests.get(url)\n",
    "  soup = BeautifulSoup(response.content, 'html.parser')\n",
    "  print(f'Fetched {(len(soup.text))} characters from {url}')\n",
    "\n",
    "threads=[]\n",
    "\n",
    "for url in urls:\n",
    "  thread = threading.Thread(target=fetch_content, args=(url,))\n",
    "  threads.append(thread)\n",
    "  thread.start()\n",
    " \n",
    "for thread in threads:\n",
    "  thread.join()\n",
    "\n",
    "print('All threads have completed.')"
   ]
  },
  {
   "cell_type": "code",
   "execution_count": null,
   "id": "23dbddba",
   "metadata": {},
   "outputs": [],
   "source": []
  },
  {
   "cell_type": "code",
   "execution_count": null,
   "id": "d4c26bf7",
   "metadata": {},
   "outputs": [],
   "source": []
  },
  {
   "cell_type": "code",
   "execution_count": null,
   "id": "d14a0af3",
   "metadata": {},
   "outputs": [],
   "source": []
  },
  {
   "cell_type": "code",
   "execution_count": null,
   "id": "60228d7f",
   "metadata": {},
   "outputs": [],
   "source": []
  },
  {
   "cell_type": "code",
   "execution_count": null,
   "id": "41f1acc9",
   "metadata": {},
   "outputs": [],
   "source": []
  }
 ],
 "metadata": {
  "kernelspec": {
   "display_name": "base",
   "language": "python",
   "name": "python3"
  },
  "language_info": {
   "codemirror_mode": {
    "name": "ipython",
    "version": 3
   },
   "file_extension": ".py",
   "mimetype": "text/x-python",
   "name": "python",
   "nbconvert_exporter": "python",
   "pygments_lexer": "ipython3",
   "version": "3.12.7"
  }
 },
 "nbformat": 4,
 "nbformat_minor": 5
}
